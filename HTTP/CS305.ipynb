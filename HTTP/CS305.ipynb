{
 "cells": [
  {
   "cell_type": "raw",
   "metadata": {
    "collapsed": false
   },
   "source": [
    "In the project, the majority of tasks will undergo script testing, with only a few being reviewed by the TA. Be aware that this testing material is not final and cannot cover all testing scenarios. If you are caught cheating during testing, the whole group will receive a score of 0 for the project."
   ]
  },
  {
   "cell_type": "raw",
   "metadata": {
    "collapsed": false
   },
   "source": [
    "The script checks using the requests library in Python. Before testing, ensure that the server has three users with the usernames \"client1\", \"client2\", and \"client3\", and the passwords \"123\". In the upcoming tests, if the Authorization field is needed, use \"client1\" and \"123\" as both the username and password."
   ]
  },
  {
   "cell_type": "code",
   "execution_count": 1,
   "metadata": {
    "collapsed": false,
    "ExecuteTime": {
     "end_time": "2024-01-05T05:16:25.580773300Z",
     "start_time": "2024-01-05T05:16:25.363769Z"
    }
   },
   "outputs": [],
   "source": [
    "import requests"
   ]
  },
  {
   "cell_type": "raw",
   "metadata": {
    "collapsed": false
   },
   "source": [
    "The initial check is the head request, a fundamental job of the server is to respond to the request. Use the \"headers\" parameter for logging into the server. Disregard this parameter if the server lacks the login feature."
   ]
  },
  {
   "cell_type": "code",
   "execution_count": 25,
   "metadata": {
    "collapsed": false,
    "ExecuteTime": {
     "end_time": "2024-01-03T11:27:14.089881Z",
     "start_time": "2024-01-03T11:27:08.013101500Z"
    }
   },
   "outputs": [
    {
     "ename": "ConnectionError",
     "evalue": "HTTPConnectionPool(host='loalhost', port=8080): Max retries exceeded with url: / (Caused by NewConnectionError('<urllib3.connection.HTTPConnection object at 0x0000023D8DFAC1D0>: Failed to establish a new connection: [Errno 11001] getaddrinfo failed'))",
     "output_type": "error",
     "traceback": [
      "\u001B[1;31m---------------------------------------------------------------------------\u001B[0m",
      "\u001B[1;31mgaierror\u001B[0m                                  Traceback (most recent call last)",
      "File \u001B[1;32mD:\\anaconda\\Lib\\site-packages\\urllib3\\connection.py:174\u001B[0m, in \u001B[0;36mHTTPConnection._new_conn\u001B[1;34m(self)\u001B[0m\n\u001B[0;32m    173\u001B[0m \u001B[38;5;28;01mtry\u001B[39;00m:\n\u001B[1;32m--> 174\u001B[0m     conn \u001B[38;5;241m=\u001B[39m connection\u001B[38;5;241m.\u001B[39mcreate_connection(\n\u001B[0;32m    175\u001B[0m         (\u001B[38;5;28mself\u001B[39m\u001B[38;5;241m.\u001B[39m_dns_host, \u001B[38;5;28mself\u001B[39m\u001B[38;5;241m.\u001B[39mport), \u001B[38;5;28mself\u001B[39m\u001B[38;5;241m.\u001B[39mtimeout, \u001B[38;5;241m*\u001B[39m\u001B[38;5;241m*\u001B[39mextra_kw\n\u001B[0;32m    176\u001B[0m     )\n\u001B[0;32m    178\u001B[0m \u001B[38;5;28;01mexcept\u001B[39;00m SocketTimeout:\n",
      "File \u001B[1;32mD:\\anaconda\\Lib\\site-packages\\urllib3\\util\\connection.py:72\u001B[0m, in \u001B[0;36mcreate_connection\u001B[1;34m(address, timeout, source_address, socket_options)\u001B[0m\n\u001B[0;32m     68\u001B[0m     \u001B[38;5;28;01mreturn\u001B[39;00m six\u001B[38;5;241m.\u001B[39mraise_from(\n\u001B[0;32m     69\u001B[0m         LocationParseError(\u001B[38;5;124mu\u001B[39m\u001B[38;5;124m\"\u001B[39m\u001B[38;5;124m'\u001B[39m\u001B[38;5;132;01m%s\u001B[39;00m\u001B[38;5;124m'\u001B[39m\u001B[38;5;124m, label empty or too long\u001B[39m\u001B[38;5;124m\"\u001B[39m \u001B[38;5;241m%\u001B[39m host), \u001B[38;5;28;01mNone\u001B[39;00m\n\u001B[0;32m     70\u001B[0m     )\n\u001B[1;32m---> 72\u001B[0m \u001B[38;5;28;01mfor\u001B[39;00m res \u001B[38;5;129;01min\u001B[39;00m socket\u001B[38;5;241m.\u001B[39mgetaddrinfo(host, port, family, socket\u001B[38;5;241m.\u001B[39mSOCK_STREAM):\n\u001B[0;32m     73\u001B[0m     af, socktype, proto, canonname, sa \u001B[38;5;241m=\u001B[39m res\n",
      "File \u001B[1;32mD:\\anaconda\\Lib\\socket.py:962\u001B[0m, in \u001B[0;36mgetaddrinfo\u001B[1;34m(host, port, family, type, proto, flags)\u001B[0m\n\u001B[0;32m    961\u001B[0m addrlist \u001B[38;5;241m=\u001B[39m []\n\u001B[1;32m--> 962\u001B[0m \u001B[38;5;28;01mfor\u001B[39;00m res \u001B[38;5;129;01min\u001B[39;00m _socket\u001B[38;5;241m.\u001B[39mgetaddrinfo(host, port, family, \u001B[38;5;28mtype\u001B[39m, proto, flags):\n\u001B[0;32m    963\u001B[0m     af, socktype, proto, canonname, sa \u001B[38;5;241m=\u001B[39m res\n",
      "\u001B[1;31mgaierror\u001B[0m: [Errno 11001] getaddrinfo failed",
      "\nDuring handling of the above exception, another exception occurred:\n",
      "\u001B[1;31mNewConnectionError\u001B[0m                        Traceback (most recent call last)",
      "File \u001B[1;32mD:\\anaconda\\Lib\\site-packages\\urllib3\\connectionpool.py:714\u001B[0m, in \u001B[0;36mHTTPConnectionPool.urlopen\u001B[1;34m(self, method, url, body, headers, retries, redirect, assert_same_host, timeout, pool_timeout, release_conn, chunked, body_pos, **response_kw)\u001B[0m\n\u001B[0;32m    713\u001B[0m \u001B[38;5;66;03m# Make the request on the httplib connection object.\u001B[39;00m\n\u001B[1;32m--> 714\u001B[0m httplib_response \u001B[38;5;241m=\u001B[39m \u001B[38;5;28mself\u001B[39m\u001B[38;5;241m.\u001B[39m_make_request(\n\u001B[0;32m    715\u001B[0m     conn,\n\u001B[0;32m    716\u001B[0m     method,\n\u001B[0;32m    717\u001B[0m     url,\n\u001B[0;32m    718\u001B[0m     timeout\u001B[38;5;241m=\u001B[39mtimeout_obj,\n\u001B[0;32m    719\u001B[0m     body\u001B[38;5;241m=\u001B[39mbody,\n\u001B[0;32m    720\u001B[0m     headers\u001B[38;5;241m=\u001B[39mheaders,\n\u001B[0;32m    721\u001B[0m     chunked\u001B[38;5;241m=\u001B[39mchunked,\n\u001B[0;32m    722\u001B[0m )\n\u001B[0;32m    724\u001B[0m \u001B[38;5;66;03m# If we're going to release the connection in ``finally:``, then\u001B[39;00m\n\u001B[0;32m    725\u001B[0m \u001B[38;5;66;03m# the response doesn't need to know about the connection. Otherwise\u001B[39;00m\n\u001B[0;32m    726\u001B[0m \u001B[38;5;66;03m# it will also try to release it and we'll have a double-release\u001B[39;00m\n\u001B[0;32m    727\u001B[0m \u001B[38;5;66;03m# mess.\u001B[39;00m\n",
      "File \u001B[1;32mD:\\anaconda\\Lib\\site-packages\\urllib3\\connectionpool.py:415\u001B[0m, in \u001B[0;36mHTTPConnectionPool._make_request\u001B[1;34m(self, conn, method, url, timeout, chunked, **httplib_request_kw)\u001B[0m\n\u001B[0;32m    414\u001B[0m     \u001B[38;5;28;01melse\u001B[39;00m:\n\u001B[1;32m--> 415\u001B[0m         conn\u001B[38;5;241m.\u001B[39mrequest(method, url, \u001B[38;5;241m*\u001B[39m\u001B[38;5;241m*\u001B[39mhttplib_request_kw)\n\u001B[0;32m    417\u001B[0m \u001B[38;5;66;03m# We are swallowing BrokenPipeError (errno.EPIPE) since the server is\u001B[39;00m\n\u001B[0;32m    418\u001B[0m \u001B[38;5;66;03m# legitimately able to close the connection after sending a valid response.\u001B[39;00m\n\u001B[0;32m    419\u001B[0m \u001B[38;5;66;03m# With this behaviour, the received response is still readable.\u001B[39;00m\n",
      "File \u001B[1;32mD:\\anaconda\\Lib\\site-packages\\urllib3\\connection.py:244\u001B[0m, in \u001B[0;36mHTTPConnection.request\u001B[1;34m(self, method, url, body, headers)\u001B[0m\n\u001B[0;32m    243\u001B[0m     headers[\u001B[38;5;124m\"\u001B[39m\u001B[38;5;124mUser-Agent\u001B[39m\u001B[38;5;124m\"\u001B[39m] \u001B[38;5;241m=\u001B[39m _get_default_user_agent()\n\u001B[1;32m--> 244\u001B[0m \u001B[38;5;28msuper\u001B[39m(HTTPConnection, \u001B[38;5;28mself\u001B[39m)\u001B[38;5;241m.\u001B[39mrequest(method, url, body\u001B[38;5;241m=\u001B[39mbody, headers\u001B[38;5;241m=\u001B[39mheaders)\n",
      "File \u001B[1;32mD:\\anaconda\\Lib\\http\\client.py:1286\u001B[0m, in \u001B[0;36mHTTPConnection.request\u001B[1;34m(self, method, url, body, headers, encode_chunked)\u001B[0m\n\u001B[0;32m   1285\u001B[0m \u001B[38;5;250m\u001B[39m\u001B[38;5;124;03m\"\"\"Send a complete request to the server.\"\"\"\u001B[39;00m\n\u001B[1;32m-> 1286\u001B[0m \u001B[38;5;28mself\u001B[39m\u001B[38;5;241m.\u001B[39m_send_request(method, url, body, headers, encode_chunked)\n",
      "File \u001B[1;32mD:\\anaconda\\Lib\\http\\client.py:1332\u001B[0m, in \u001B[0;36mHTTPConnection._send_request\u001B[1;34m(self, method, url, body, headers, encode_chunked)\u001B[0m\n\u001B[0;32m   1331\u001B[0m     body \u001B[38;5;241m=\u001B[39m _encode(body, \u001B[38;5;124m'\u001B[39m\u001B[38;5;124mbody\u001B[39m\u001B[38;5;124m'\u001B[39m)\n\u001B[1;32m-> 1332\u001B[0m \u001B[38;5;28mself\u001B[39m\u001B[38;5;241m.\u001B[39mendheaders(body, encode_chunked\u001B[38;5;241m=\u001B[39mencode_chunked)\n",
      "File \u001B[1;32mD:\\anaconda\\Lib\\http\\client.py:1281\u001B[0m, in \u001B[0;36mHTTPConnection.endheaders\u001B[1;34m(self, message_body, encode_chunked)\u001B[0m\n\u001B[0;32m   1280\u001B[0m     \u001B[38;5;28;01mraise\u001B[39;00m CannotSendHeader()\n\u001B[1;32m-> 1281\u001B[0m \u001B[38;5;28mself\u001B[39m\u001B[38;5;241m.\u001B[39m_send_output(message_body, encode_chunked\u001B[38;5;241m=\u001B[39mencode_chunked)\n",
      "File \u001B[1;32mD:\\anaconda\\Lib\\http\\client.py:1041\u001B[0m, in \u001B[0;36mHTTPConnection._send_output\u001B[1;34m(self, message_body, encode_chunked)\u001B[0m\n\u001B[0;32m   1040\u001B[0m \u001B[38;5;28;01mdel\u001B[39;00m \u001B[38;5;28mself\u001B[39m\u001B[38;5;241m.\u001B[39m_buffer[:]\n\u001B[1;32m-> 1041\u001B[0m \u001B[38;5;28mself\u001B[39m\u001B[38;5;241m.\u001B[39msend(msg)\n\u001B[0;32m   1043\u001B[0m \u001B[38;5;28;01mif\u001B[39;00m message_body \u001B[38;5;129;01mis\u001B[39;00m \u001B[38;5;129;01mnot\u001B[39;00m \u001B[38;5;28;01mNone\u001B[39;00m:\n\u001B[0;32m   1044\u001B[0m \n\u001B[0;32m   1045\u001B[0m     \u001B[38;5;66;03m# create a consistent interface to message_body\u001B[39;00m\n",
      "File \u001B[1;32mD:\\anaconda\\Lib\\http\\client.py:979\u001B[0m, in \u001B[0;36mHTTPConnection.send\u001B[1;34m(self, data)\u001B[0m\n\u001B[0;32m    978\u001B[0m \u001B[38;5;28;01mif\u001B[39;00m \u001B[38;5;28mself\u001B[39m\u001B[38;5;241m.\u001B[39mauto_open:\n\u001B[1;32m--> 979\u001B[0m     \u001B[38;5;28mself\u001B[39m\u001B[38;5;241m.\u001B[39mconnect()\n\u001B[0;32m    980\u001B[0m \u001B[38;5;28;01melse\u001B[39;00m:\n",
      "File \u001B[1;32mD:\\anaconda\\Lib\\site-packages\\urllib3\\connection.py:205\u001B[0m, in \u001B[0;36mHTTPConnection.connect\u001B[1;34m(self)\u001B[0m\n\u001B[0;32m    204\u001B[0m \u001B[38;5;28;01mdef\u001B[39;00m \u001B[38;5;21mconnect\u001B[39m(\u001B[38;5;28mself\u001B[39m):\n\u001B[1;32m--> 205\u001B[0m     conn \u001B[38;5;241m=\u001B[39m \u001B[38;5;28mself\u001B[39m\u001B[38;5;241m.\u001B[39m_new_conn()\n\u001B[0;32m    206\u001B[0m     \u001B[38;5;28mself\u001B[39m\u001B[38;5;241m.\u001B[39m_prepare_conn(conn)\n",
      "File \u001B[1;32mD:\\anaconda\\Lib\\site-packages\\urllib3\\connection.py:186\u001B[0m, in \u001B[0;36mHTTPConnection._new_conn\u001B[1;34m(self)\u001B[0m\n\u001B[0;32m    185\u001B[0m \u001B[38;5;28;01mexcept\u001B[39;00m SocketError \u001B[38;5;28;01mas\u001B[39;00m e:\n\u001B[1;32m--> 186\u001B[0m     \u001B[38;5;28;01mraise\u001B[39;00m NewConnectionError(\n\u001B[0;32m    187\u001B[0m         \u001B[38;5;28mself\u001B[39m, \u001B[38;5;124m\"\u001B[39m\u001B[38;5;124mFailed to establish a new connection: \u001B[39m\u001B[38;5;132;01m%s\u001B[39;00m\u001B[38;5;124m\"\u001B[39m \u001B[38;5;241m%\u001B[39m e\n\u001B[0;32m    188\u001B[0m     )\n\u001B[0;32m    190\u001B[0m \u001B[38;5;28;01mreturn\u001B[39;00m conn\n",
      "\u001B[1;31mNewConnectionError\u001B[0m: <urllib3.connection.HTTPConnection object at 0x0000023D8DFAC1D0>: Failed to establish a new connection: [Errno 11001] getaddrinfo failed",
      "\nDuring handling of the above exception, another exception occurred:\n",
      "\u001B[1;31mMaxRetryError\u001B[0m                             Traceback (most recent call last)",
      "File \u001B[1;32mD:\\anaconda\\Lib\\site-packages\\requests\\adapters.py:486\u001B[0m, in \u001B[0;36mHTTPAdapter.send\u001B[1;34m(self, request, stream, timeout, verify, cert, proxies)\u001B[0m\n\u001B[0;32m    485\u001B[0m \u001B[38;5;28;01mtry\u001B[39;00m:\n\u001B[1;32m--> 486\u001B[0m     resp \u001B[38;5;241m=\u001B[39m conn\u001B[38;5;241m.\u001B[39murlopen(\n\u001B[0;32m    487\u001B[0m         method\u001B[38;5;241m=\u001B[39mrequest\u001B[38;5;241m.\u001B[39mmethod,\n\u001B[0;32m    488\u001B[0m         url\u001B[38;5;241m=\u001B[39murl,\n\u001B[0;32m    489\u001B[0m         body\u001B[38;5;241m=\u001B[39mrequest\u001B[38;5;241m.\u001B[39mbody,\n\u001B[0;32m    490\u001B[0m         headers\u001B[38;5;241m=\u001B[39mrequest\u001B[38;5;241m.\u001B[39mheaders,\n\u001B[0;32m    491\u001B[0m         redirect\u001B[38;5;241m=\u001B[39m\u001B[38;5;28;01mFalse\u001B[39;00m,\n\u001B[0;32m    492\u001B[0m         assert_same_host\u001B[38;5;241m=\u001B[39m\u001B[38;5;28;01mFalse\u001B[39;00m,\n\u001B[0;32m    493\u001B[0m         preload_content\u001B[38;5;241m=\u001B[39m\u001B[38;5;28;01mFalse\u001B[39;00m,\n\u001B[0;32m    494\u001B[0m         decode_content\u001B[38;5;241m=\u001B[39m\u001B[38;5;28;01mFalse\u001B[39;00m,\n\u001B[0;32m    495\u001B[0m         retries\u001B[38;5;241m=\u001B[39m\u001B[38;5;28mself\u001B[39m\u001B[38;5;241m.\u001B[39mmax_retries,\n\u001B[0;32m    496\u001B[0m         timeout\u001B[38;5;241m=\u001B[39mtimeout,\n\u001B[0;32m    497\u001B[0m         chunked\u001B[38;5;241m=\u001B[39mchunked,\n\u001B[0;32m    498\u001B[0m     )\n\u001B[0;32m    500\u001B[0m \u001B[38;5;28;01mexcept\u001B[39;00m (ProtocolError, \u001B[38;5;167;01mOSError\u001B[39;00m) \u001B[38;5;28;01mas\u001B[39;00m err:\n",
      "File \u001B[1;32mD:\\anaconda\\Lib\\site-packages\\urllib3\\connectionpool.py:798\u001B[0m, in \u001B[0;36mHTTPConnectionPool.urlopen\u001B[1;34m(self, method, url, body, headers, retries, redirect, assert_same_host, timeout, pool_timeout, release_conn, chunked, body_pos, **response_kw)\u001B[0m\n\u001B[0;32m    796\u001B[0m     e \u001B[38;5;241m=\u001B[39m ProtocolError(\u001B[38;5;124m\"\u001B[39m\u001B[38;5;124mConnection aborted.\u001B[39m\u001B[38;5;124m\"\u001B[39m, e)\n\u001B[1;32m--> 798\u001B[0m retries \u001B[38;5;241m=\u001B[39m retries\u001B[38;5;241m.\u001B[39mincrement(\n\u001B[0;32m    799\u001B[0m     method, url, error\u001B[38;5;241m=\u001B[39me, _pool\u001B[38;5;241m=\u001B[39m\u001B[38;5;28mself\u001B[39m, _stacktrace\u001B[38;5;241m=\u001B[39msys\u001B[38;5;241m.\u001B[39mexc_info()[\u001B[38;5;241m2\u001B[39m]\n\u001B[0;32m    800\u001B[0m )\n\u001B[0;32m    801\u001B[0m retries\u001B[38;5;241m.\u001B[39msleep()\n",
      "File \u001B[1;32mD:\\anaconda\\Lib\\site-packages\\urllib3\\util\\retry.py:592\u001B[0m, in \u001B[0;36mRetry.increment\u001B[1;34m(self, method, url, response, error, _pool, _stacktrace)\u001B[0m\n\u001B[0;32m    591\u001B[0m \u001B[38;5;28;01mif\u001B[39;00m new_retry\u001B[38;5;241m.\u001B[39mis_exhausted():\n\u001B[1;32m--> 592\u001B[0m     \u001B[38;5;28;01mraise\u001B[39;00m MaxRetryError(_pool, url, error \u001B[38;5;129;01mor\u001B[39;00m ResponseError(cause))\n\u001B[0;32m    594\u001B[0m log\u001B[38;5;241m.\u001B[39mdebug(\u001B[38;5;124m\"\u001B[39m\u001B[38;5;124mIncremented Retry for (url=\u001B[39m\u001B[38;5;124m'\u001B[39m\u001B[38;5;132;01m%s\u001B[39;00m\u001B[38;5;124m'\u001B[39m\u001B[38;5;124m): \u001B[39m\u001B[38;5;132;01m%r\u001B[39;00m\u001B[38;5;124m\"\u001B[39m, url, new_retry)\n",
      "\u001B[1;31mMaxRetryError\u001B[0m: HTTPConnectionPool(host='loalhost', port=8080): Max retries exceeded with url: / (Caused by NewConnectionError('<urllib3.connection.HTTPConnection object at 0x0000023D8DFAC1D0>: Failed to establish a new connection: [Errno 11001] getaddrinfo failed'))",
      "\nDuring handling of the above exception, another exception occurred:\n",
      "\u001B[1;31mConnectionError\u001B[0m                           Traceback (most recent call last)",
      "Cell \u001B[1;32mIn[25], line 2\u001B[0m\n\u001B[0;32m      1\u001B[0m headers\u001B[38;5;241m=\u001B[39m{\u001B[38;5;124m\"\u001B[39m\u001B[38;5;124mAuthorization\u001B[39m\u001B[38;5;124m\"\u001B[39m: \u001B[38;5;124m\"\u001B[39m\u001B[38;5;124mBasic Y2xpZW50MToxMjM=\u001B[39m\u001B[38;5;124m\"\u001B[39m}\n\u001B[1;32m----> 2\u001B[0m q\u001B[38;5;241m=\u001B[39mrequests\u001B[38;5;241m.\u001B[39mhead(\u001B[38;5;124m'\u001B[39m\u001B[38;5;124mhttp://loalhost:8080/\u001B[39m\u001B[38;5;124m'\u001B[39m,headers\u001B[38;5;241m=\u001B[39mheaders)\n\u001B[0;32m      3\u001B[0m \u001B[38;5;28mprint\u001B[39m(q)\n",
      "File \u001B[1;32mD:\\anaconda\\Lib\\site-packages\\requests\\api.py:100\u001B[0m, in \u001B[0;36mhead\u001B[1;34m(url, **kwargs)\u001B[0m\n\u001B[0;32m     89\u001B[0m \u001B[38;5;250m\u001B[39m\u001B[38;5;124mr\u001B[39m\u001B[38;5;124;03m\"\"\"Sends a HEAD request.\u001B[39;00m\n\u001B[0;32m     90\u001B[0m \n\u001B[0;32m     91\u001B[0m \u001B[38;5;124;03m:param url: URL for the new :class:`Request` object.\u001B[39;00m\n\u001B[1;32m   (...)\u001B[0m\n\u001B[0;32m     96\u001B[0m \u001B[38;5;124;03m:rtype: requests.Response\u001B[39;00m\n\u001B[0;32m     97\u001B[0m \u001B[38;5;124;03m\"\"\"\u001B[39;00m\n\u001B[0;32m     99\u001B[0m kwargs\u001B[38;5;241m.\u001B[39msetdefault(\u001B[38;5;124m\"\u001B[39m\u001B[38;5;124mallow_redirects\u001B[39m\u001B[38;5;124m\"\u001B[39m, \u001B[38;5;28;01mFalse\u001B[39;00m)\n\u001B[1;32m--> 100\u001B[0m \u001B[38;5;28;01mreturn\u001B[39;00m request(\u001B[38;5;124m\"\u001B[39m\u001B[38;5;124mhead\u001B[39m\u001B[38;5;124m\"\u001B[39m, url, \u001B[38;5;241m*\u001B[39m\u001B[38;5;241m*\u001B[39mkwargs)\n",
      "File \u001B[1;32mD:\\anaconda\\Lib\\site-packages\\requests\\api.py:59\u001B[0m, in \u001B[0;36mrequest\u001B[1;34m(method, url, **kwargs)\u001B[0m\n\u001B[0;32m     55\u001B[0m \u001B[38;5;66;03m# By using the 'with' statement we are sure the session is closed, thus we\u001B[39;00m\n\u001B[0;32m     56\u001B[0m \u001B[38;5;66;03m# avoid leaving sockets open which can trigger a ResourceWarning in some\u001B[39;00m\n\u001B[0;32m     57\u001B[0m \u001B[38;5;66;03m# cases, and look like a memory leak in others.\u001B[39;00m\n\u001B[0;32m     58\u001B[0m \u001B[38;5;28;01mwith\u001B[39;00m sessions\u001B[38;5;241m.\u001B[39mSession() \u001B[38;5;28;01mas\u001B[39;00m session:\n\u001B[1;32m---> 59\u001B[0m     \u001B[38;5;28;01mreturn\u001B[39;00m session\u001B[38;5;241m.\u001B[39mrequest(method\u001B[38;5;241m=\u001B[39mmethod, url\u001B[38;5;241m=\u001B[39murl, \u001B[38;5;241m*\u001B[39m\u001B[38;5;241m*\u001B[39mkwargs)\n",
      "File \u001B[1;32mD:\\anaconda\\Lib\\site-packages\\requests\\sessions.py:589\u001B[0m, in \u001B[0;36mSession.request\u001B[1;34m(self, method, url, params, data, headers, cookies, files, auth, timeout, allow_redirects, proxies, hooks, stream, verify, cert, json)\u001B[0m\n\u001B[0;32m    584\u001B[0m send_kwargs \u001B[38;5;241m=\u001B[39m {\n\u001B[0;32m    585\u001B[0m     \u001B[38;5;124m\"\u001B[39m\u001B[38;5;124mtimeout\u001B[39m\u001B[38;5;124m\"\u001B[39m: timeout,\n\u001B[0;32m    586\u001B[0m     \u001B[38;5;124m\"\u001B[39m\u001B[38;5;124mallow_redirects\u001B[39m\u001B[38;5;124m\"\u001B[39m: allow_redirects,\n\u001B[0;32m    587\u001B[0m }\n\u001B[0;32m    588\u001B[0m send_kwargs\u001B[38;5;241m.\u001B[39mupdate(settings)\n\u001B[1;32m--> 589\u001B[0m resp \u001B[38;5;241m=\u001B[39m \u001B[38;5;28mself\u001B[39m\u001B[38;5;241m.\u001B[39msend(prep, \u001B[38;5;241m*\u001B[39m\u001B[38;5;241m*\u001B[39msend_kwargs)\n\u001B[0;32m    591\u001B[0m \u001B[38;5;28;01mreturn\u001B[39;00m resp\n",
      "File \u001B[1;32mD:\\anaconda\\Lib\\site-packages\\requests\\sessions.py:703\u001B[0m, in \u001B[0;36mSession.send\u001B[1;34m(self, request, **kwargs)\u001B[0m\n\u001B[0;32m    700\u001B[0m start \u001B[38;5;241m=\u001B[39m preferred_clock()\n\u001B[0;32m    702\u001B[0m \u001B[38;5;66;03m# Send the request\u001B[39;00m\n\u001B[1;32m--> 703\u001B[0m r \u001B[38;5;241m=\u001B[39m adapter\u001B[38;5;241m.\u001B[39msend(request, \u001B[38;5;241m*\u001B[39m\u001B[38;5;241m*\u001B[39mkwargs)\n\u001B[0;32m    705\u001B[0m \u001B[38;5;66;03m# Total elapsed time of the request (approximately)\u001B[39;00m\n\u001B[0;32m    706\u001B[0m elapsed \u001B[38;5;241m=\u001B[39m preferred_clock() \u001B[38;5;241m-\u001B[39m start\n",
      "File \u001B[1;32mD:\\anaconda\\Lib\\site-packages\\requests\\adapters.py:519\u001B[0m, in \u001B[0;36mHTTPAdapter.send\u001B[1;34m(self, request, stream, timeout, verify, cert, proxies)\u001B[0m\n\u001B[0;32m    515\u001B[0m     \u001B[38;5;28;01mif\u001B[39;00m \u001B[38;5;28misinstance\u001B[39m(e\u001B[38;5;241m.\u001B[39mreason, _SSLError):\n\u001B[0;32m    516\u001B[0m         \u001B[38;5;66;03m# This branch is for urllib3 v1.22 and later.\u001B[39;00m\n\u001B[0;32m    517\u001B[0m         \u001B[38;5;28;01mraise\u001B[39;00m SSLError(e, request\u001B[38;5;241m=\u001B[39mrequest)\n\u001B[1;32m--> 519\u001B[0m     \u001B[38;5;28;01mraise\u001B[39;00m \u001B[38;5;167;01mConnectionError\u001B[39;00m(e, request\u001B[38;5;241m=\u001B[39mrequest)\n\u001B[0;32m    521\u001B[0m \u001B[38;5;28;01mexcept\u001B[39;00m ClosedPoolError \u001B[38;5;28;01mas\u001B[39;00m e:\n\u001B[0;32m    522\u001B[0m     \u001B[38;5;28;01mraise\u001B[39;00m \u001B[38;5;167;01mConnectionError\u001B[39;00m(e, request\u001B[38;5;241m=\u001B[39mrequest)\n",
      "\u001B[1;31mConnectionError\u001B[0m: HTTPConnectionPool(host='loalhost', port=8080): Max retries exceeded with url: / (Caused by NewConnectionError('<urllib3.connection.HTTPConnection object at 0x0000023D8DFAC1D0>: Failed to establish a new connection: [Errno 11001] getaddrinfo failed'))"
     ]
    }
   ],
   "source": [
    "headers={\"Authorization\": \"Basic Y2xpZW50MToxMjM=\"}\n",
    "q=requests.head('http://localhost:8080/',headers=headers)\n",
    "print(q)\n"
   ]
  },
  {
   "cell_type": "raw",
   "metadata": {
    "collapsed": false
   },
   "source": [
    "Test get request"
   ]
  },
  {
   "cell_type": "code",
   "execution_count": 11,
   "metadata": {
    "collapsed": false,
    "ExecuteTime": {
     "end_time": "2024-01-03T11:25:01.282914Z",
     "start_time": "2024-01-03T11:24:59.227016600Z"
    }
   },
   "outputs": [
    {
     "name": "stdout",
     "output_type": "stream",
     "text": [
      "<Response [200]>\n"
     ]
    }
   ],
   "source": [
    "headers={\"Authorization\": \"Basic Y2xpZW50MToxMjM=\"}\n",
    "q=requests.get('http://localhost:8080/',headers=headers)\n",
    "print(q)"
   ]
  },
  {
   "cell_type": "raw",
   "metadata": {
    "collapsed": false
   },
   "source": [
    "Test post request"
   ]
  },
  {
   "cell_type": "code",
   "execution_count": 12,
   "metadata": {
    "collapsed": false,
    "ExecuteTime": {
     "end_time": "2024-01-03T11:25:04.496634600Z",
     "start_time": "2024-01-03T11:25:02.438693700Z"
    }
   },
   "outputs": [
    {
     "name": "stdout",
     "output_type": "stream",
     "text": [
      "<Response [405]>\n"
     ]
    }
   ],
   "source": [
    "headers={\"Authorization\": \"Basic Y2xpZW50MToxMjM=\"}\n",
    "q=requests.post('http://localhost:8080/',headers=headers)\n",
    "print(q)"
   ]
  },
  {
   "cell_type": "raw",
   "metadata": {
    "collapsed": false
   },
   "source": [
    "Next, we will provide test examples based on the chapters in the project documentation. Each test is accompanied by a output. We do not check exact string matches for your output, as long as you complete the corresponding task.\n",
    "\n"
   ]
  },
  {
   "cell_type": "code",
   "execution_count": 13,
   "metadata": {
    "collapsed": false,
    "ExecuteTime": {
     "end_time": "2024-01-03T11:25:07.082773100Z",
     "start_time": "2024-01-03T11:25:07.052624500Z"
    }
   },
   "outputs": [
    {
     "name": "stdout",
     "output_type": "stream",
     "text": [
      "<Response [200]>\n",
      "<Response [200]>\n"
     ]
    }
   ],
   "source": [
    "#1.1\n",
    "headers={\"Authorization\": \"Basic Y2xpZW50MToxMjM=\"}\n",
    "session = requests.Session()\n",
    "session.headers.update({'Connection': 'keep-alive'})\n",
    "\n",
    "response1 = session.get('http://127.0.0.1:8080',headers=headers)\n",
    "response2 = session.get('http://127.0.0.1:8080',headers=headers)\n",
    "\n",
    "print(response1)\n",
    "print(response2)\n",
    "\n",
    "\n"
   ]
  },
  {
   "cell_type": "code",
   "execution_count": 14,
   "metadata": {
    "collapsed": false,
    "ExecuteTime": {
     "end_time": "2024-01-03T11:25:09.846266100Z",
     "start_time": "2024-01-03T11:25:09.818722Z"
    }
   },
   "outputs": [
    {
     "name": "stdout",
     "output_type": "stream",
     "text": [
      "<Response [200]>\n",
      "<Response [200]>\n"
     ]
    }
   ],
   "source": [
    "#1.2\n",
    "#1.1\n",
    "headers={\"Authorization\": \"Basic Y2xpZW50MToxMjM=\"}\n",
    "session1 = requests.Session()\n",
    "session1.headers.update({'Connection': 'keep-alive'})\n",
    "session2 = requests.Session()\n",
    "session2.headers.update({'Connection': 'keep-alive'})\n",
    "\n",
    "response1 = session1.get('http://127.0.0.1:8080',headers=headers)\n",
    "response2 = session2.get('http://127.0.0.1:8080',headers=headers)\n",
    "\n",
    "\n",
    "print(response1)\n",
    "print(response2)\n"
   ]
  },
  {
   "cell_type": "code",
   "execution_count": 15,
   "metadata": {
    "collapsed": false,
    "ExecuteTime": {
     "end_time": "2024-01-03T11:25:16.031230700Z",
     "start_time": "2024-01-03T11:25:11.957950200Z"
    }
   },
   "outputs": [
    {
     "name": "stdout",
     "output_type": "stream",
     "text": [
      "<Response [200]>\n",
      "<Response [401]>\n"
     ]
    }
   ],
   "source": [
    "#1.3\n",
    "headers1={\"Authorization\": \"Basic Y2xpZW50MToxMjM=\"}\n",
    "headers2={}\n",
    "q=requests.head('http://localhost:8080/',headers=headers1)\n",
    "print(q)\n",
    "q=requests.head('http://localhost:8080/',headers=headers2)\n",
    "print(q)"
   ]
  },
  {
   "cell_type": "code",
   "execution_count": 16,
   "metadata": {
    "collapsed": false,
    "ExecuteTime": {
     "end_time": "2024-01-03T11:25:19.081448800Z",
     "start_time": "2024-01-03T11:25:19.057311600Z"
    }
   },
   "outputs": [
    {
     "name": "stdout",
     "output_type": "stream",
     "text": [
      "<Response [200]>\n",
      "[\"12111511/\", \"123.png\", \"666/\", \"a.txt\", \"abc.py\", \"admin/\", \"background_sustech.jpg\", \"client1/\", \"favicon.ico\", \"index.html\", \"logo_word.png\", \"test.txt\"]\n"
     ]
    }
   ],
   "source": [
    "#2\n",
    "url1='http://127.0.0.1:8080/?SUSTech-HTTP=1'\n",
    "\n",
    "headers={\"Authorization\": \"Basic Y2xpZW50MToxMjM=\"}\n",
    "r=requests.get(url=url1, headers=headers)\n",
    "print(r)\n",
    "print(r.content.decode())\n",
    "\n",
    "\n"
   ]
  },
  {
   "cell_type": "code",
   "execution_count": 17,
   "metadata": {
    "collapsed": false,
    "ExecuteTime": {
     "end_time": "2024-01-03T11:25:21.516412100Z",
     "start_time": "2024-01-03T11:25:21.488190900Z"
    }
   },
   "outputs": [
    {
     "name": "stdout",
     "output_type": "stream",
     "text": [
      "<h1>Files:</h1><a href=\"#\" onclick=\"getRoot()\">/(Root)</a><br><a href=\"#\" onclick=\"getParent('')\">../(Parent)</a><br><p><a href=\"#\" onclick=\"getFile('/', '12111511/')\">12111511/</a></p><p><a href=\"#\" onclick=\"getFile('/', '123.png')\">123.png</a></p><p><a href=\"#\" onclick=\"getFile('/', '666/')\">666/</a></p><p><a href=\"#\" onclick=\"getFile('/', 'a.txt')\">a.txt</a></p><p><a href=\"#\" onclick=\"getFile('/', 'abc.py')\">abc.py</a></p><p><a href=\"#\" onclick=\"getFile('/', 'admin/')\">admin/</a></p><p><a href=\"#\" onclick=\"getFile('/', 'background_sustech.jpg')\">background_sustech.jpg</a></p><p><a href=\"#\" onclick=\"getFile('/', 'client1/')\">client1/</a></p><p><a href=\"#\" onclick=\"getFile('/', 'favicon.ico')\">favicon.ico</a></p><p><a href=\"#\" onclick=\"getFile('/', 'index.html')\">index.html</a></p><p><a href=\"#\" onclick=\"getFile('/', 'logo_word.png')\">logo_word.png</a></p><p><a href=\"#\" onclick=\"getFile('/', 'test.txt')\">test.txt</a></p><div id=\"content\"></div>\n",
      "                    <script>\n",
      "                    function getRoot() {\n",
      "                        window.location.href = '/?SUSTech-HTTP=0';\n",
      "                    }                       \n",
      "                    function getParent(parentDir) {\n",
      "                        window.location.href = window.location.origin + parentDir + '?SUSTech-HTTP=0';\n",
      "                    }\n",
      "                    function getFile(sonDir, file) {\n",
      "                        window.location.href = window.location.origin + sonDir + file + '?SUSTech-HTTP=0';\n",
      "                    }\n",
      "                </script>\n",
      "                \n"
     ]
    }
   ],
   "source": [
    "#2\n",
    "url2='http://127.0.0.1:8080/?SUSTech-HTTP=0'\n",
    "\n",
    "headers={\"Authorization\": \"Basic Y2xpZW50MToxMjM=\"}\n",
    "r=requests.get(url=url2, headers=headers)\n",
    "print(r.content.decode())"
   ]
  },
  {
   "cell_type": "code",
   "execution_count": 2,
   "metadata": {
    "collapsed": false,
    "ExecuteTime": {
     "end_time": "2024-01-04T09:20:43.488911Z",
     "start_time": "2024-01-04T09:20:43.379330800Z"
    }
   },
   "outputs": [
    {
     "name": "stdout",
     "output_type": "stream",
     "text": [
      "sadfsdfasdf\r\n",
      "sadfsdfasdf\r\n",
      "sadfsdfasdf\r\n",
      "sadfsdfasdf\r\n",
      "sadfsdfasdf\r\n",
      "sadfsdfasdf\r\n",
      "sadfsdfasdf\r\n",
      "sadfsdfasdf\r\n",
      "sadfsdfasdf\r\n",
      "sadfsdfasdf\r\n",
      "sadfsdfasdf\r\n",
      "sadfsdfasdf\r\n",
      "sadfsdfasdf\r\n",
      "sadfsdfasdf\r\n",
      "sadfsdfasdf\r\n",
      "sadfsdfasdf\r\n",
      "sadfsdfasdf\r\n",
      "sadfsdfasdf\r\n",
      "sadfsdfasdf\r\n",
      "sadfsdfasdf\r\n",
      "sadfsdfasdf\r\n",
      "sadfsdfasdf\r\n",
      "sadfsdfasdf\r\n",
      "sadfsdfasdf\r\n",
      "sadfsdfasdf\r\n",
      "sadfsdfasdf\r\n",
      "sadfsdfasdf\r\n",
      "sadfsdfasdf\r\n",
      "sadfsdfasdf\r\n",
      "sadfsdfasdf\r\n",
      "sadfsdfasdf\r\n",
      "sadfsdfasdf\r\n",
      "sadfsdfasdf\r\n",
      "sadfsdfasdf\r\n",
      "sadfsdfasdf\r\n",
      "sadfsdfasdf\r\n",
      "sadfsdfasdf\r\n",
      "sadfsdfasdf\r\n",
      "sadfsdfasdf\r\n",
      "sadfsdfasdf\r\n",
      "sadfsdfasdf\r\n",
      "sadfsdfasdf\r\n",
      "sadfsdfasdf\r\n",
      "sadfsdfasdf\r\n",
      "sadfsdfasdf\r\n",
      "sadfsdfasdf\r\n",
      "sadfsdfasdf\r\n",
      "sadfsdfasdf\r\n",
      "sadfsdfasdf\r\n",
      "sadfsdfasdf\r\n",
      "sadfsdfasdf\r\n",
      "sadfsdfasdf\r\n",
      "sadfsdfasdf\r\n",
      "sadfsdfasdf\r\n",
      "sadfsdfasdf\r\n",
      "sadfsdfasdf\r\n",
      "sadfsdfasdf\r\n",
      "sadfsdfasdf\r\n",
      "sadfsdfasdf\r\n",
      "sadfsdfasdf\r\n",
      "sadfsdfasdf\r\n",
      "sadfsdfasdf\r\n",
      "sadfsdfasdf\r\n",
      "sadfsdfasdf\r\n",
      "sadfsdfasdf\r\n",
      "sadfsdfasdf\r\n",
      "sadfsdfasdf\r\n",
      "sadfsdfasdf\r\n",
      "sadfsdfasdf\r\n",
      "sadfsdfasdf\r\n",
      "sadfsdfasdf\r\n",
      "sadfsdfasdf\r\n",
      "sadfsdfasdf\r\n",
      "sadfsdfasdf\r\n",
      "sadfsdfasdf\r\n",
      "sadfsdfasdf\r\n",
      "sadfsdfasdf\r\n",
      "sadfsdfasdf\r\n",
      "sadfsdfasdf\r\n",
      "sadfsdfasdf\r\n",
      "sadfsdfasdf\r\n",
      "sadfsdfasdf\r\n",
      "sadfsdfasdf\r\n",
      "sadfsdfasdf\r\n",
      "sadfsdfasdf\r\n",
      "sadfsdfasdf\r\n",
      "sadfsdfasdf\r\n",
      "sadfsdfasdf\r\n",
      "sadfsdfasdf\r\n",
      "sadfsdfasdf\r\n",
      "sadfsdfasdf\r\n",
      "sadfsdfasdf\r\n",
      "sadfsdfasdf\r\n",
      "sadfsdfasdf\r\n",
      "sadfsdfasdf\r\n",
      "sadfsdfasdf\r\n",
      "sadfsdfasdf\r\n",
      "sadfsdfasdf\r\n",
      "sadfsdfasdf\r\n",
      "sadfsdfasdf\r\n",
      "sadfsdfasdf\r\n",
      "sadfsdfasdf\r\n",
      "sadfsdfasdf\r\n",
      "sadfsdfasdf\r\n",
      "sadfsdfasdf\r\n",
      "sadfsdfasdf\r\n",
      "sadfsdfasdf\r\n",
      "sadfsdfasdf\r\n",
      "sadfsdfasdf\r\n",
      "sadfsdfasdf\r\n",
      "sadfsdfasdf\r\n",
      "sadfsdfasdf\r\n",
      "sadfsdfasdf\r\n",
      "sadfsdfasdf\r\n",
      "sadfsdfasdf\r\n",
      "sadfsdfasdf\r\n",
      "sadfsdfasdf\r\n",
      "sadfsdfasdf\r\n",
      "sadfsdfasdf\r\n",
      "sadfsdfasdf\r\n",
      "sadfsdfasdf\r\n",
      "sadfsdfasdf\r\n",
      "sadfsdfasdf\r\n",
      "sadfsdfasdf\r\n",
      "sadfsdfasdf\r\n",
      "sadfsdfasdf\r\n",
      "sadfsdfasdf\r\n",
      "sadfsdfasdf\r\n",
      "sadfsdfasdf\r\n",
      "sadfsdfasdf\r\n",
      "sadfsdfasdf\r\n",
      "sadfsdfasdf\r\n",
      "sadfsdfasdf\r\n",
      "sadfsdfasdf\r\n",
      "sadfsdfasdf\r\n",
      "sadfsdfasdf\r\n",
      "sadfsdfasdf\r\n",
      "sadfsdfasdf\r\n",
      "sadfsdfasdf\r\n",
      "sadfsdfasdf\r\n",
      "sadfsdfasdf\r\n",
      "sadfsdfasdf\r\n",
      "sadfsdfasdf\r\n",
      "sadfsdfasdf\r\n",
      "sadfsdfasdf\r\n",
      "sadfsdfasdf\r\n",
      "sadfsdfasdf\r\n",
      "sadfsdfasdf\r\n",
      "sadfsdfasdf\r\n",
      "sadfsdfasdf\r\n",
      "sadfsdfasdf\r\n",
      "sadfsdfasdf\r\n",
      "sadfsdfasdf\r\n",
      "sadfsdfasdf\r\n",
      "sadfsdfasdf\r\n",
      "sadfsdfasdf\r\n",
      "sadfsdfasdf\r\n",
      "sadfsdfasdf\r\n",
      "sadfsdfasdf\r\n",
      "sadfsdfasdf\r\n",
      "sadfsdfasdf\r\n",
      "sadfsdfasdf\r\n",
      "sadfsdfasdf\r\n",
      "sadfsdfasdf\r\n",
      "sadfsdfasdf\r\n",
      "sadfsdfasdf\r\n",
      "sadfsdfasdf\r\n",
      "sadfsdfasdf\n"
     ]
    }
   ],
   "source": [
    "#2\n",
    "headers={\"Authorization\": \"Basic Y2xpZW50MToxMjM=\"}\n",
    "r=requests.get(url='http://127.0.0.1:8080/a.txt?chunked=1', headers=headers)\n",
    "print(r.content.decode())"
   ]
  },
  {
   "cell_type": "code",
   "execution_count": 19,
   "metadata": {
    "collapsed": false,
    "ExecuteTime": {
     "end_time": "2024-01-03T11:25:26.324847900Z",
     "start_time": "2024-01-03T11:25:26.294652200Z"
    }
   },
   "outputs": [
    {
     "name": "stdout",
     "output_type": "stream",
     "text": [
      "<Response [200]>\n",
      "<Response [403]>\n"
     ]
    }
   ],
   "source": [
    "#3.1\n",
    "files = {\"firstFile\": open('tmp/a.txt', \"rb\")}\n",
    "\n",
    "\n",
    "data={}\n",
    "headers={\"Authorization\": \"Basic Y2xpZW50MToxMjM=\"}\n",
    "r=requests.post(url='http://127.0.0.1:8080/upload?path=client1/',data=data,headers=headers, files=files)\n",
    "print(r)\n",
    "r=requests.post(url='http://127.0.0.1:8080/upload?path=client2/',data=data,headers=headers, files=files)\n",
    "print(r)"
   ]
  },
  {
   "cell_type": "code",
   "execution_count": 32,
   "metadata": {
    "collapsed": false,
    "ExecuteTime": {
     "end_time": "2024-01-03T11:33:51.440967400Z",
     "start_time": "2024-01-03T11:33:51.433220Z"
    }
   },
   "outputs": [
    {
     "name": "stdout",
     "output_type": "stream",
     "text": [
      "<Response [400]>\n"
     ]
    }
   ],
   "source": [
    "#3.2\n",
    "url='http://127.0.0.1:8080/delete?path=client1/a.py'\n",
    "\n",
    "headers={\"Authorization\": \"Basic Y2xpZW50MToxMjM=\"}\n",
    "r=requests.post(url=url, headers=headers)\n",
    "print(r)"
   ]
  },
  {
   "cell_type": "code",
   "execution_count": 22,
   "metadata": {
    "collapsed": false,
    "ExecuteTime": {
     "end_time": "2024-01-03T11:26:21.780106600Z",
     "start_time": "2024-01-03T11:26:19.723048900Z"
    }
   },
   "outputs": [
    {
     "name": "stdout",
     "output_type": "stream",
     "text": [
      "d7207341-b403-452c-87a1-4ac1afe28f19\n",
      "<Response [200]>\n"
     ]
    }
   ],
   "source": [
    "#4\n",
    "url='http://127.0.0.1:8080/'\n",
    "\n",
    "headers={\"Authorization\": \"Basic Y2xpZW50MToxMjM=\"}\n",
    "r=requests.get(url=url, headers=headers)\n",
    "print(r.cookies.values()[0])\n",
    "headers={\"Cookie\":'session-id='+r.cookies.values()[0]}\n",
    "q=requests.get('http://localhost:8080/',headers=headers)\n",
    "print(q)\n",
    "# print(q.cookies)"
   ]
  },
  {
   "cell_type": "code",
   "execution_count": 3,
   "metadata": {
    "collapsed": false,
    "ExecuteTime": {
     "end_time": "2024-01-05T05:16:50.847405900Z",
     "start_time": "2024-01-05T05:16:50.814555Z"
    }
   },
   "outputs": [
    {
     "name": "stdout",
     "output_type": "stream",
     "text": [
      "<Response [200]>\n"
     ]
    }
   ],
   "source": [
    "#5\n",
    "headers={\"Authorization\": \"Basic Y2xpZW50MToxMjM=\"}\n",
    "r=requests.get(url='http://127.0.0.1:8080/client1/12.jpg?chunked=1', headers=headers)\n",
    "print(r)"
   ]
  },
  {
   "cell_type": "code",
   "execution_count": 31,
   "metadata": {
    "collapsed": false,
    "ExecuteTime": {
     "end_time": "2024-01-03T11:32:27.110795700Z",
     "start_time": "2024-01-03T11:32:27.050933700Z"
    }
   },
   "outputs": [
    {
     "name": "stdout",
     "output_type": "stream",
     "text": []
    }
   ],
   "source": [
    "#Breakpoint Transmission\n",
    "url='http://127.0.0.1:8080/client1/a.txt'\n",
    "\n",
    "data={}\n",
    "headers={\"Authorization\": \"Basic Y2xpZW50MToxMjM=\",\n",
    "         \"Range\": \"0-1,1-2,2-16\"}\n",
    "r=requests.get(url=url, data=data, headers=headers)\n",
    "print(r.content.decode())"
   ]
  }
 ],
 "metadata": {
  "kernelspec": {
   "display_name": "Python 3",
   "language": "python",
   "name": "python3"
  },
  "language_info": {
   "codemirror_mode": {
    "name": "ipython",
    "version": 3
   },
   "file_extension": ".py",
   "mimetype": "text/x-python",
   "name": "python",
   "nbconvert_exporter": "python",
   "pygments_lexer": "ipython3",
   "version": "3.10.12"
  }
 },
 "nbformat": 4,
 "nbformat_minor": 0
}
